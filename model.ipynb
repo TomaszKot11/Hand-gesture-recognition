{
 "cells": [
  {
   "cell_type": "code",
   "execution_count": 1,
   "metadata": {},
   "outputs": [],
   "source": [
    "from torchvision import models\n",
    "import torch\n",
    "from torchvision import transforms\n",
    "from PIL import Image\n",
    "import torch.nn as nn\n",
    "import os\n",
    "import cv2\n",
    "from sklearn.svm import LinearSVC\n",
    "from sklearn.naive_bayes import GaussianNB\n",
    "from sklearn.ensemble import RandomForestClassifier\n",
    "import numpy as np\n",
    "from sklearn.neighbors import KNeighborsClassifier"
   ]
  },
  {
   "cell_type": "code",
   "execution_count": 2,
   "metadata": {},
   "outputs": [],
   "source": [
    "alexnet = models.alexnet(pretrained=True)\n",
    "alexnet.classifier = nn.Sequential(*[alexnet.classifier[i] for i in range(5)])"
   ]
  },
  {
   "cell_type": "code",
   "execution_count": 3,
   "metadata": {},
   "outputs": [],
   "source": [
    "def extractFeatures(img):\n",
    "    transform = transforms.Compose([            \n",
    "      transforms.Resize(256),                   \n",
    "      transforms.CenterCrop(224),               \n",
    "      transforms.ToTensor(),                    \n",
    "      transforms.Normalize(                     \n",
    "      mean=[0.485, 0.456, 0.406],               \n",
    "      std=[0.229, 0.224, 0.225]                 \n",
    "    )])\n",
    "    \n",
    "    img = img.convert('RGB')\n",
    "    img_t = transform(img)\n",
    "    batch_t = torch.unsqueeze(img_t, 0)\n",
    "    out = alexnet(batch_t)\n",
    "    assert out.shape == torch.Size([1, 4096])\n",
    "    output = out.detach().numpy()\n",
    "    output = np.reshape(output, 4096)\n",
    "    return output"
   ]
  },
  {
   "cell_type": "code",
   "execution_count": 4,
   "metadata": {},
   "outputs": [],
   "source": [
    "def prepare_data(path):\n",
    "    X_train = []\n",
    "    X_test = []\n",
    "    y_train = []\n",
    "    y_test = []\n",
    "    i=1\n",
    "    for folder_person in os.listdir(path):\n",
    "        for folder_gesture in os.listdir(path + folder_person):\n",
    "            for file in os.listdir(path + folder_person + \"/\" + folder_gesture)[0:30]:\n",
    "                image = Image.open(os.path.join(path + folder_person + \"/\" + folder_gesture, file))\n",
    "                if(i<5):\n",
    "                    image_with_features = extractFeatures(image)\n",
    "                    X_train.append(image_with_features)\n",
    "                    y_train.append(int(folder_gesture[0:2]))\n",
    "                    i+=1\n",
    "                else:  \n",
    "                    image_with_features = extractFeatures(image)\n",
    "                    X_test.append(image_with_features)\n",
    "                    y_test.append(int(folder_gesture[0:2]))\n",
    "                    i=1\n",
    "    return X_train, y_train, X_test, y_test"
   ]
  },
  {
   "cell_type": "code",
   "execution_count": 5,
   "metadata": {},
   "outputs": [],
   "source": [
    "DATASET_PATH = \"../dataset/\"\n",
    "X_train, y_train, X_test, y_test = prepare_data(DATASET_PATH)"
   ]
  },
  {
   "cell_type": "code",
   "execution_count": 6,
   "metadata": {},
   "outputs": [
    {
     "name": "stdout",
     "output_type": "stream",
     "text": [
      "Training images : 2400\n",
      "Training labels : 2400\n",
      "Testing images : 600\n",
      "Testing labels : 600\n"
     ]
    }
   ],
   "source": [
    "print(\"Training images :\" , len(X_train))\n",
    "print(\"Training labels :\" , len(y_train))\n",
    "print(\"Testing images :\" , len(X_test))\n",
    "print(\"Testing labels :\" , len(y_test))"
   ]
  },
  {
   "cell_type": "code",
   "execution_count": 7,
   "metadata": {},
   "outputs": [],
   "source": [
    "def model_building(model, X_train, X_test, y_train, y_test):\n",
    "    model.fit(X_train,y_train)\n",
    "    score = model.score(X_test,y_test)\n",
    "    return score"
   ]
  },
  {
   "cell_type": "code",
   "execution_count": 8,
   "metadata": {},
   "outputs": [
    {
     "name": "stderr",
     "output_type": "stream",
     "text": [
      "/home/sarthak/anaconda3/lib/python3.7/site-packages/sklearn/svm/base.py:929: ConvergenceWarning: Liblinear failed to converge, increase the number of iterations.\n",
      "  \"the number of iterations.\", ConvergenceWarning)\n",
      "/home/sarthak/anaconda3/lib/python3.7/site-packages/sklearn/ensemble/forest.py:245: FutureWarning: The default value of n_estimators will change from 10 in version 0.20 to 100 in 0.22.\n",
      "  \"10 in version 0.20 to 100 in 0.22.\", FutureWarning)\n"
     ]
    },
    {
     "name": "stdout",
     "output_type": "stream",
     "text": [
      "Linear Support Vector score: 0.95\n",
      "Random forest score: 0.755\n",
      "KNN with 4 neighbors score: 0.9866666666666667\n",
      "KNN with 5 neighbors score: 0.985\n",
      "KNN with 6 neighbors score: 0.9883333333333333\n",
      "KNN with 7 neighbors score: 0.9816666666666667\n",
      "KNN with 8 neighbors score: 0.98\n",
      "KNN with 9 neighbors score: 0.9766666666666667\n",
      "Naive Bayes score: 0.8216666666666667\n"
     ]
    }
   ],
   "source": [
    "models = [(LinearSVC(), \"Linear Support Vector\"), \n",
    "          (RandomForestClassifier(), \"Random forest\"),\n",
    "          (KNeighborsClassifier(n_neighbors=4), \"KNN with 4 neighbors\"),\n",
    "          (KNeighborsClassifier(n_neighbors=5), \"KNN with 5 neighbors\"),\n",
    "          (KNeighborsClassifier(n_neighbors=6), \"KNN with 6 neighbors\"),\n",
    "          (KNeighborsClassifier(n_neighbors=7), \"KNN with 7 neighbors\"),\n",
    "          (KNeighborsClassifier(n_neighbors=8), \"KNN with 8 neighbors\"),\n",
    "          (KNeighborsClassifier(n_neighbors=9), \"KNN with 9 neighbors\"),\n",
    "          (GaussianNB(), \"Naive Bayes\")]\n",
    "\n",
    "for model in models:    \n",
    "    score = model_building(model[0], X_train, X_test, y_train, y_test)\n",
    "    print(\"{} score: {}\".format(model[1],score))"
   ]
  }
 ],
 "metadata": {
  "kernelspec": {
   "display_name": "Python 3",
   "language": "python",
   "name": "python3"
  },
  "language_info": {
   "codemirror_mode": {
    "name": "ipython",
    "version": 3
   },
   "file_extension": ".py",
   "mimetype": "text/x-python",
   "name": "python",
   "nbconvert_exporter": "python",
   "pygments_lexer": "ipython3",
   "version": "3.7.3"
  }
 },
 "nbformat": 4,
 "nbformat_minor": 2
}
