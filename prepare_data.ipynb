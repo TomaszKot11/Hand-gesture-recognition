{
 "cells": [
  {
   "cell_type": "code",
   "execution_count": 1,
   "metadata": {},
   "outputs": [],
   "source": [
    "import os\n",
    "import cv2"
   ]
  },
  {
   "cell_type": "code",
   "execution_count": 2,
   "metadata": {},
   "outputs": [],
   "source": [
    "def prepare_data_using_index(path):\n",
    "    X_train = []\n",
    "    X_test = []\n",
    "    y_train = []\n",
    "    y_test = []\n",
    "    i=1\n",
    "    for folder_person in os.listdir(path):\n",
    "        for folder_gesture in os.listdir(path + folder_person):\n",
    "            for file in os.listdir(path + folder_person + \"/\" + folder_gesture):\n",
    "                image = cv2.imread(os.path.join(path + folder_person + \"/\" + folder_gesture, file))\n",
    "                if(i<5):\n",
    "                    X_train.append(image)\n",
    "                    y_train.append(folder_gesture[0:2])\n",
    "                    i+=1\n",
    "                else:    \n",
    "                    X_test.append(image)\n",
    "                    y_test.append(folder_gesture[0:2])\n",
    "                    i=1\n",
    "    return X_train, y_train, X_test, y_test"
   ]
  },
  {
   "cell_type": "code",
   "execution_count": 3,
   "metadata": {},
   "outputs": [],
   "source": [
    "path = \"../small_dataset/\""
   ]
  },
  {
   "cell_type": "code",
   "execution_count": 4,
   "metadata": {},
   "outputs": [],
   "source": [
    "X_train, y_train, X_test, y_test = prepare_data_using_index(path)"
   ]
  },
  {
   "cell_type": "code",
   "execution_count": 6,
   "metadata": {},
   "outputs": [
    {
     "name": "stdout",
     "output_type": "stream",
     "text": [
      "Training images :  4800\n",
      "Training images :  4800\n",
      "Testing images :  1200\n",
      "Testing labels :  1200\n"
     ]
    }
   ],
   "source": [
    "print(\"Training images : \" , len(X_train))\n",
    "print(\"Training images : \" , len(y_train))\n",
    "print(\"Testing images : \" , len(X_test))\n",
    "print(\"Testing labels : \" , len(y_test))"
   ]
  }
 ],
 "metadata": {
  "kernelspec": {
   "display_name": "Python 3",
   "language": "python",
   "name": "python3"
  },
  "language_info": {
   "codemirror_mode": {
    "name": "ipython",
    "version": 3
   },
   "file_extension": ".py",
   "mimetype": "text/x-python",
   "name": "python",
   "nbconvert_exporter": "python",
   "pygments_lexer": "ipython3",
   "version": "3.7.3"
  }
 },
 "nbformat": 4,
 "nbformat_minor": 2
}
